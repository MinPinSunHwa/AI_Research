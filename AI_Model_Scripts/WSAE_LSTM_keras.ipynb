{
 "cells": [
  {
   "cell_type": "code",
   "execution_count": 1,
   "metadata": {},
   "outputs": [],
   "source": [
    "import matplotlib.pyplot as plt\n",
    "import tensorflow as tf\n",
    "import numpy as np\n",
    "import pandas as pd\n",
    "import os\n",
    "from sklearn.preprocessing import MinMaxScaler\n",
    "%matplotlib inline"
   ]
  },
  {
   "cell_type": "markdown",
   "metadata": {},
   "source": [
    "## Parsing data from MongoDB"
   ]
  },
  {
   "cell_type": "code",
   "execution_count": 2,
   "metadata": {},
   "outputs": [
    {
     "name": "stdout",
     "output_type": "stream",
     "text": [
      "DB connection complete!!\n"
     ]
    }
   ],
   "source": [
    "from pymongo import MongoClient\n",
    "from datetime import datetime\n",
    "client = MongoClient('52.79.241.214', 27017)\n",
    "print(\"DB connection complete!!\")"
   ]
  },
  {
   "cell_type": "code",
   "execution_count": 3,
   "metadata": {},
   "outputs": [],
   "source": [
    "DB_Coin = client[\"Coin-USD\"]\n",
    "Collection = DB_Coin['BTC']\n",
    "import time\n",
    "DB_schema = []\n",
    "i = 0\n",
    "\n",
    "for collect in Collection.find():\n",
    "    #if i==2902:\n",
    "    if i==905:\n",
    "        continue\n",
    "    temp_record = {}\n",
    "\n",
    "    temp_record['open'] = collect['Open']\n",
    "    temp_record['close'] = collect['Price']\n",
    "    temp_record['high'] = collect['High']\n",
    "    temp_record['low'] = collect['Low']\n",
    "    temp_record['volume'] = collect['Volume']    \n",
    "    temp_record['Date'] = collect['Date']\n",
    "    DB_schema.append(temp_record)\n",
    "    del temp_record\n",
    "    i = i+1"
   ]
  },
  {
   "cell_type": "markdown",
   "metadata": {},
   "source": [
    "## Data preprocessing"
   ]
  },
  {
   "cell_type": "code",
   "execution_count": 4,
   "metadata": {},
   "outputs": [
    {
     "data": {
      "text/plain": [
       "<matplotlib.axes._subplots.AxesSubplot at 0x21d347b59b0>"
      ]
     },
     "execution_count": 4,
     "metadata": {},
     "output_type": "execute_result"
    },
    {
     "data": {
      "image/png": "[encoded data removed]",
      "text/plain": [
       "<Figure size 432x288 with 1 Axes>"
      ]
     },
     "metadata": {},
     "output_type": "display_data"
    }
   ],
   "source": [
    "DF = pd.DataFrame(DB_schema)\n",
    "DF.index = DF['Date']\n",
    "DF['close'].plot()"
   ]
  },
  {
   "cell_type": "code",
   "execution_count": 5,
   "metadata": {},
   "outputs": [
    {
     "data": {
      "text/plain": [
       "(905, 6)"
      ]
     },
     "execution_count": 5,
     "metadata": {},
     "output_type": "execute_result"
    }
   ],
   "source": [
    "DF.values.shape"
   ]
  },
  {
   "cell_type": "code",
   "execution_count": 6,
   "metadata": {},
   "outputs": [],
   "source": [
    "target_names = ['close']\n",
    "shift_hours = 5\n",
    "DF_targets = DF[target_names].shift(-shift_hours)"
   ]
  },
  {
   "cell_type": "code",
   "execution_count": 7,
   "metadata": {},
   "outputs": [
    {
     "data": {
      "text/html": [
       "<div>\n",
       "<style scoped>\n",
       "    .dataframe tbody tr th:only-of-type {\n",
       "        vertical-align: middle;\n",
       "    }\n",
       "\n",
       "    .dataframe tbody tr th {\n",
       "        vertical-align: top;\n",
       "    }\n",
       "\n",
       "    .dataframe thead th {\n",
       "        text-align: right;\n",
       "    }\n",
       "</style>\n",
       "<table border=\"1\" class=\"dataframe\">\n",
       "  <thead>\n",
       "    <tr style=\"text-align: right;\">\n",
       "      <th></th>\n",
       "      <th>close</th>\n",
       "      <th>high</th>\n",
       "      <th>low</th>\n",
       "      <th>open</th>\n",
       "      <th>volume</th>\n",
       "    </tr>\n",
       "    <tr>\n",
       "      <th>Date</th>\n",
       "      <th></th>\n",
       "      <th></th>\n",
       "      <th></th>\n",
       "      <th></th>\n",
       "      <th></th>\n",
       "    </tr>\n",
       "  </thead>\n",
       "  <tbody>\n",
       "    <tr>\n",
       "      <th>20180807</th>\n",
       "      <td>6952.3</td>\n",
       "      <td>6991.6</td>\n",
       "      <td>6914.8</td>\n",
       "      <td>6943.6</td>\n",
       "      <td>157830.0</td>\n",
       "    </tr>\n",
       "    <tr>\n",
       "      <th>20180806</th>\n",
       "      <td>6943.6</td>\n",
       "      <td>7143.6</td>\n",
       "      <td>6852.5</td>\n",
       "      <td>7027.8</td>\n",
       "      <td>168870.0</td>\n",
       "    </tr>\n",
       "    <tr>\n",
       "      <th>20180805</th>\n",
       "      <td>7027.1</td>\n",
       "      <td>7087.6</td>\n",
       "      <td>6887.9</td>\n",
       "      <td>7014.0</td>\n",
       "      <td>177640.0</td>\n",
       "    </tr>\n",
       "    <tr>\n",
       "      <th>20180804</th>\n",
       "      <td>7014.3</td>\n",
       "      <td>7484.2</td>\n",
       "      <td>6949.7</td>\n",
       "      <td>7418.9</td>\n",
       "      <td>222570.0</td>\n",
       "    </tr>\n",
       "    <tr>\n",
       "      <th>20180803</th>\n",
       "      <td>7419.0</td>\n",
       "      <td>7535.6</td>\n",
       "      <td>7293.5</td>\n",
       "      <td>7535.6</td>\n",
       "      <td>226460.0</td>\n",
       "    </tr>\n",
       "  </tbody>\n",
       "</table>\n",
       "</div>"
      ],
      "text/plain": [
       "           close    high     low    open    volume\n",
       "Date                                              \n",
       "20180807  6952.3  6991.6  6914.8  6943.6  157830.0\n",
       "20180806  6943.6  7143.6  6852.5  7027.8  168870.0\n",
       "20180805  7027.1  7087.6  6887.9  7014.0  177640.0\n",
       "20180804  7014.3  7484.2  6949.7  7418.9  222570.0\n",
       "20180803  7419.0  7535.6  7293.5  7535.6  226460.0"
      ]
     },
     "execution_count": 7,
     "metadata": {},
     "output_type": "execute_result"
    }
   ],
   "source": [
    "DF = DF[['close', 'high', 'low', 'open', 'volume']]\n",
    "DF.head()"
   ]
  },
  {
   "cell_type": "code",
   "execution_count": 8,
   "metadata": {},
   "outputs": [
    {
     "data": {
      "text/html": [
       "<div>\n",
       "<style scoped>\n",
       "    .dataframe tbody tr th:only-of-type {\n",
       "        vertical-align: middle;\n",
       "    }\n",
       "\n",
       "    .dataframe tbody tr th {\n",
       "        vertical-align: top;\n",
       "    }\n",
       "\n",
       "    .dataframe thead th {\n",
       "        text-align: right;\n",
       "    }\n",
       "</style>\n",
       "<table border=\"1\" class=\"dataframe\">\n",
       "  <thead>\n",
       "    <tr style=\"text-align: right;\">\n",
       "      <th></th>\n",
       "      <th>close</th>\n",
       "    </tr>\n",
       "    <tr>\n",
       "      <th>Date</th>\n",
       "      <th></th>\n",
       "    </tr>\n",
       "  </thead>\n",
       "  <tbody>\n",
       "    <tr>\n",
       "      <th>20180807</th>\n",
       "      <td>7535.6</td>\n",
       "    </tr>\n",
       "    <tr>\n",
       "      <th>20180806</th>\n",
       "      <td>7606.4</td>\n",
       "    </tr>\n",
       "    <tr>\n",
       "      <th>20180805</th>\n",
       "      <td>7729.4</td>\n",
       "    </tr>\n",
       "    <tr>\n",
       "      <th>20180804</th>\n",
       "      <td>8177.1</td>\n",
       "    </tr>\n",
       "    <tr>\n",
       "      <th>20180803</th>\n",
       "      <td>8215.6</td>\n",
       "    </tr>\n",
       "  </tbody>\n",
       "</table>\n",
       "</div>"
      ],
      "text/plain": [
       "           close\n",
       "Date            \n",
       "20180807  7535.6\n",
       "20180806  7606.4\n",
       "20180805  7729.4\n",
       "20180804  8177.1\n",
       "20180803  8215.6"
      ]
     },
     "execution_count": 8,
     "metadata": {},
     "output_type": "execute_result"
    }
   ],
   "source": [
    "DF_targets.head()"
   ]
  },
  {
   "cell_type": "code",
   "execution_count": 9,
   "metadata": {},
   "outputs": [
    {
     "name": "stdout",
     "output_type": "stream",
     "text": [
      "<class 'numpy.ndarray'>\n",
      "Shape:  (900, 5)\n"
     ]
    }
   ],
   "source": [
    "x_data = DF.values[0:-shift_hours]\n",
    "print(type(x_data))\n",
    "print(\"Shape: \", x_data.shape)"
   ]
  },
  {
   "cell_type": "code",
   "execution_count": 10,
   "metadata": {},
   "outputs": [
    {
     "name": "stdout",
     "output_type": "stream",
     "text": [
      "<class 'numpy.ndarray'>\n",
      "Shape:  (900, 1)\n"
     ]
    }
   ],
   "source": [
    "y_data = DF_targets.values[:-shift_hours]\n",
    "print(type(y_data))\n",
    "print(\"Shape: \", y_data.shape)"
   ]
  },
  {
   "cell_type": "code",
   "execution_count": 11,
   "metadata": {},
   "outputs": [],
   "source": [
    "num_data = len(x_data)\n",
    "train_split = 0.6\n",
    "num_train = int(train_split * num_data)\n",
    "num_test = num_data - num_train"
   ]
  },
  {
   "cell_type": "code",
   "execution_count": 12,
   "metadata": {},
   "outputs": [
    {
     "name": "stdout",
     "output_type": "stream",
     "text": [
      "540\n",
      "360\n"
     ]
    }
   ],
   "source": [
    "print(num_train)\n",
    "print(num_test)"
   ]
  },
  {
   "cell_type": "code",
   "execution_count": 13,
   "metadata": {},
   "outputs": [],
   "source": [
    "x_train = x_data[0:num_train]\n",
    "x_test = x_data[num_train:]\n",
    "y_train = y_data[0:num_train]\n",
    "y_test = y_data[num_train:]\n",
    "num_x_signals = x_data.shape[1]\n",
    "num_y_signals = y_data.shape[1]"
   ]
  },
  {
   "cell_type": "code",
   "execution_count": 14,
   "metadata": {},
   "outputs": [
    {
     "name": "stdout",
     "output_type": "stream",
     "text": [
      "Min: 0.0\n",
      "Max: 1.0\n"
     ]
    }
   ],
   "source": [
    "x_scaler = MinMaxScaler()\n",
    "x_train_scaled = x_scaler.fit_transform(x_train)  # 데이터의 크기를 0에서 1사이로 조정\n",
    "print(\"Min:\", np.min(x_train_scaled))\n",
    "print(\"Max:\", np.max(x_train_scaled))"
   ]
  },
  {
   "cell_type": "code",
   "execution_count": 15,
   "metadata": {},
   "outputs": [],
   "source": [
    "x_test_scaled = x_scaler.transform(x_test)\n",
    "y_scaler = MinMaxScaler()\n",
    "y_train_scaled = y_scaler.fit_transform(y_train)\n",
    "y_test_scaled = y_scaler.transform(y_test)"
   ]
  },
  {
   "cell_type": "markdown",
   "metadata": {},
   "source": [
    "## Data Generation"
   ]
  },
  {
   "cell_type": "code",
   "execution_count": 16,
   "metadata": {},
   "outputs": [],
   "source": [
    "def batch_generator(batch_size, sequence_length):\n",
    "    \"\"\"\n",
    "    Generator function for creating random batches of training-data.\n",
    "    \"\"\"\n",
    "    # Infinite loop.\n",
    "    while True:\n",
    "        # Allocate a new array for the batch of input-signals.\n",
    "        x_shape = (batch_size, sequence_length, num_x_signals)\n",
    "        x_batch = np.zeros(shape=x_shape, dtype=np.float16)\n",
    "        # Allocate a new array for the batch of output-signals.\n",
    "        y_shape = (batch_size, sequence_length, num_y_signals)\n",
    "        y_batch = np.zeros(shape=y_shape, dtype=np.float16)\n",
    "        # Fill the batch with random sequences of data.\n",
    "        for i in range(batch_size):\n",
    "            # Get a random start-index.\n",
    "            # This points somewhere into the training-data.\n",
    "            idx = np.random.randint(num_train - sequence_length)\n",
    "            # Copy the sequences of data starting at this index.\n",
    "            x_batch[i] = x_train_scaled[idx:idx+sequence_length]\n",
    "            y_batch[i] = y_train_scaled[idx:idx+sequence_length]\n",
    "        yield (x_batch, y_batch)"
   ]
  },
  {
   "cell_type": "code",
   "execution_count": 18,
   "metadata": {},
   "outputs": [],
   "source": [
    "#batch_size = 256\n",
    "batch_size = 3\n",
    "sequence_length = 240\n",
    "generator = batch_generator(batch_size=batch_size, sequence_length=sequence_length)"
   ]
  },
  {
   "cell_type": "code",
   "execution_count": 19,
   "metadata": {},
   "outputs": [],
   "source": [
    "x_batch, y_batch = next(generator)"
   ]
  },
  {
   "cell_type": "code",
   "execution_count": 20,
   "metadata": {},
   "outputs": [
    {
     "name": "stdout",
     "output_type": "stream",
     "text": [
      "(3, 240, 5)\n",
      "(3, 240, 1)\n"
     ]
    }
   ],
   "source": [
    "# Provides randomized 256 batches. Each sequence has 1344 time-series observations. Each observation has 5 inputs and 1 outputs\n",
    "print(x_batch.shape)\n",
    "print(y_batch.shape)"
   ]
  },
  {
   "cell_type": "code",
   "execution_count": 21,
   "metadata": {},
   "outputs": [
    {
     "data": {
      "text/plain": [
       "[<matplotlib.lines.Line2D at 0x21d476cb828>]"
      ]
     },
     "execution_count": 21,
     "metadata": {},
     "output_type": "execute_result"
    },
    {
     "data": {
      "image/png": "[encoded data removed]",
      "text/plain": [
       "<Figure size 432x288 with 1 Axes>"
      ]
     },
     "metadata": {},
     "output_type": "display_data"
    }
   ],
   "source": [
    "batch = 0 # First sequence in the batch.\n",
    "signal = 0 # First signal from the 20 input-signals.\n",
    "seq = x_batch[batch, :, signal]\n",
    "plt.plot(seq)"
   ]
  },
  {
   "cell_type": "code",
   "execution_count": 22,
   "metadata": {},
   "outputs": [
    {
     "data": {
      "text/plain": [
       "[<matplotlib.lines.Line2D at 0x21d47705cf8>]"
      ]
     },
     "execution_count": 22,
     "metadata": {},
     "output_type": "execute_result"
    },
    {
     "data": {
      "image/png": "[encoded data removed]",
      "text/plain": [
       "<Figure size 432x288 with 1 Axes>"
      ]
     },
     "metadata": {},
     "output_type": "display_data"
    }
   ],
   "source": [
    "seq = y_batch[batch, :, signal]\n",
    "plt.plot(seq)"
   ]
  },
  {
   "cell_type": "markdown",
   "metadata": {},
   "source": [
    "#### Validation set"
   ]
  },
  {
   "cell_type": "code",
   "execution_count": 23,
   "metadata": {},
   "outputs": [],
   "source": [
    "validation_data = (np.expand_dims(x_test_scaled, axis=0), np.expand_dims(y_test_scaled, axis=0))"
   ]
  },
  {
   "cell_type": "markdown",
   "metadata": {},
   "source": [
    "# Auto-Encoder"
   ]
  },
  {
   "cell_type": "code",
   "execution_count": null,
   "metadata": {},
   "outputs": [],
   "source": [
    "from keras.layers import Input, Dense\n",
    "from keras.models import Model\n",
    "from keras import backend as K\n",
    "\n",
    "\n",
    "############################################################################# ???\n",
    "def Auto_encoder_cost(X_input, H_Layer, X_reconstructed, W_ih, W_hr):\n",
    "    ############# Hyper-parameter #############\n",
    "    param_sparsity = 0.01\n",
    "    Lambda = 0.0001 # param_weight_decay\n",
    "    Beta = 3 # param_sparse_panelty\n",
    "    ###########################################\n",
    "    \n",
    "    average_act_hidden = tf.reduce_mean(H_Layer,axis=0)   #Average hidden layer over all data points in X, Page 14 in https://web.stanford.edu/class/cs294a/sparseAutoencoder_2011new.pdf\n",
    "    diff = X_input - X_reconstructed\n",
    "    KL = Kullback_Leibler_divergence(param_sparsity, average_act_hidden)\n",
    "    cost= 0.5*tf.reduce_mean(tf.reduce_sum(tf.pow(diff,2),axis=1)) + 0.5*Lambda*(tf.nn.l2_loss(W_ih) + tf.nn.l2_loss(W_hr)) + Beta*tf.reduce_sum(KL)\n",
    "    return cost\n",
    "\n",
    "def Kullback_Leibler_divergence(rho, rho_hat):\n",
    "    return rho * tf.log(rho) - rho * tf.log(rho_hat) + (1 - rho) * tf.log(1 - rho) - (1 - rho) * tf.log(1 - rho_hat) \n",
    "\n",
    "\n",
    "def Single_Layer_Autoencoder(input_dim, encoding_dim=4):\n",
    "    \n",
    "    # this is our input placeholder\n",
    "    input_encode = Input(shape=(input_dim,))\n",
    "    # \"encoded\" is the encoded representation of the input\n",
    "    encoded = Dense(encoding_dim, activation='sigmoid')(input_encode)\n",
    "    decoded = Dense(input_dim, activation='sigmoid')(encoded)\n",
    "    # this model maps an input to its reconstruction\n",
    "    autoencoder = Model(input_encode, decoded)\n",
    "    autoencoder_cost = Auto_encoder_cost(encoded)\n",
    "    autoencoder.compile(optimizer='sgd', loss=autoencoder_cost)\n",
    "    return autoencoder\n",
    "\n",
    "\n",
    "def Get_layer_values(model, layer_idx):\n",
    "    get_values = K.function([model.layers[0].input], [model.layers[layer_idx].output])\n",
    "    return get_values([x])[0]\n",
    "    \n",
    "autoencoder1 = Single_Layer_Autoencoder(5, 4)\n",
    "autoencoder1.fit(x_batch, x_batch, nb_epoch=20, batch_size=16)\n",
    "autoencoder2 = Single_Layer_Autoencoder(4, 4)\n",
    "autoencoder1_hidden = Get_layer_values(autoencoder1, 1)\n",
    "autoencoder2.fit(autoencoder1_hidden, autoencoder1_hidden, nb_epoch=20, batch_size=16)\n",
    "autoencoder3 = Single_Layer_Autoencoder(4, 4)\n",
    "autoencoder2_hidden = Get_layer_values(autoencoder2, 1)\n",
    "autoencoder3.fit(autoencoder2_hidden, autoencoder2_hidden, nb_epoch=20, batch_size=16)\n",
    "autoencoder4 = Single_Layer_Autoencoder(4, 4)\n",
    "autoencoder3_hidden = Get_layer_values(autoencoder3, 1)\n",
    "autoencoder4.fit(autoencoder3_hidden, autoencoder3_hidden, nb_epoch=20, batch_size=16)\n",
    "autoencoder4_output = Get_layer_values(autoencoder4, -1)\n",
    "\n",
    "num_x_signals = autoencoder4_output.shape[1]\n",
    "\n",
    "\n"
   ]
  },
  {
   "cell_type": "markdown",
   "metadata": {},
   "source": [
    "## Build a LSTM model"
   ]
  },
  {
   "cell_type": "code",
   "execution_count": 24,
   "metadata": {},
   "outputs": [],
   "source": [
    "from tensorflow.python.keras.models import Sequential\n",
    "from tensorflow.python.keras.layers import Input, Dense, LSTM, Embedding\n",
    "from tensorflow.python.keras.optimizers import Adagrad\n",
    "from tensorflow.python.keras.callbacks import EarlyStopping, ModelCheckpoint, TensorBoard, ReduceLROnPlateau"
   ]
  },
  {
   "cell_type": "code",
   "execution_count": 25,
   "metadata": {},
   "outputs": [],
   "source": [
    "LSTM_model = Sequential()\n",
    "#LSTM_model.add(LSTM(units=512, return_sequences=True, input_shape=(None, num_x_signals,)))\n",
    "LSTM_model.add(LSTM(units=220, return_sequences=True, input_shape=(None, num_x_signals,)))\n",
    "LSTM_model.add(Dense(num_y_signals, activation='sigmoid'))\n",
    "if False:\n",
    "    from tensorflow.python.keras.initializers import RandomUniform\n",
    "    # Maybe use lower init-ranges.\n",
    "    init = RandomUniform(minval=-0.05, maxval=0.05)\n",
    "    LSTM_model.add(Dense(num_y_signals, activation='linear', kernel_initializer=init))"
   ]
  },
  {
   "cell_type": "markdown",
   "metadata": {},
   "source": [
    "### Loss Function"
   ]
  },
  {
   "cell_type": "code",
   "execution_count": 26,
   "metadata": {},
   "outputs": [],
   "source": [
    "warmup_steps = 50\n",
    "def loss_mse_warmup(y_true, y_pred):\n",
    "    \"\"\"\n",
    "    Calculate the Mean Squared Error between y_true and y_pred,\n",
    "    but ignore the beginning \"warmup\" part of the sequences.\n",
    "    y_true is the desired output.\n",
    "    y_pred is the model's output.\n",
    "    \"\"\"\n",
    "    # The shape of both input tensors are:\n",
    "    # [batch_size, sequence_length, num_y_signals].\n",
    "    # Ignore the \"warmup\" parts of the sequences\n",
    "    # by taking slices of the tensors.\n",
    "    y_true_slice = y_true[:, warmup_steps:, :]\n",
    "    y_pred_slice = y_pred[:, warmup_steps:, :]\n",
    "    \n",
    "    # These sliced tensors both have this shape:\n",
    "    # [batch_size, sequence_length - warmup_steps, num_y_signals]\n",
    "    # Calculate the MSE loss for each value in these tensors.\n",
    "    # This outputs a 3-rank tensor of the same shape.\n",
    "    #losses = [tf.nn.sparse_softmax_cross_entropy_with_logits(labels=labels, logits=logits) for logits, labels in zip(logits_series,labelsSeries)]\n",
    "    loss = tf.losses.mean_squared_error(labels=y_true_slice, predictions=y_pred_slice)\n",
    "    \n",
    "    # Keras may reduce this across the first axis (the batch)\n",
    "    # but the semantics are unclear, so to be sure we use\n",
    "    # the loss across the entire tensor, we reduce it to a\n",
    "    # single scalar with the mean function.\n",
    "    loss_mean = tf.reduce_mean(loss)\n",
    "    return loss_mean\n",
    "\n",
    "from sklearn.metrics import r2_score\n",
    "import matplotlib.pyplot as plt\n",
    "\n",
    "# Mean Absolute percentage error\n",
    "def mean_absolute_percentage_error(y_true, y_pred):\n",
    "    #y_true, y_pred = np.array(y_true), np.array(y_pred)\n",
    "    return np.mean(np.abs((y_true - y_pred) / y_true)) * 100\n",
    "\n",
    "# Theil_U\n",
    "def Theil_U(y_true, y_pred):\n",
    "    y_true, y_pred = np.array(y_true), np.array(y_pred)\n",
    "    return(np.mean((np.square(y_true - y_pred)))/(np.sqrt(np.mean(np.square(y_true)))+np.sqrt(np.mean(np.square(y_pred)))))"
   ]
  },
  {
   "cell_type": "markdown",
   "metadata": {},
   "source": [
    "## Model Compile"
   ]
  },
  {
   "cell_type": "code",
   "execution_count": 27,
   "metadata": {},
   "outputs": [],
   "source": [
    "optimizer = Adagrad(lr=1e-4)\n",
    "LSTM_model.compile(loss=loss_mse_warmup, optimizer=optimizer)"
   ]
  },
  {
   "cell_type": "code",
   "execution_count": 28,
   "metadata": {},
   "outputs": [
    {
     "name": "stdout",
     "output_type": "stream",
     "text": [
      "_________________________________________________________________\n",
      "Layer (type)                 Output Shape              Param #   \n",
      "=================================================================\n",
      "lstm (LSTM)                  (None, None, 220)         198880    \n",
      "_________________________________________________________________\n",
      "dense (Dense)                (None, None, 1)           221       \n",
      "=================================================================\n",
      "Total params: 199,101\n",
      "Trainable params: 199,101\n",
      "Non-trainable params: 0\n",
      "_________________________________________________________________\n"
     ]
    }
   ],
   "source": [
    "LSTM_model.summary()"
   ]
  },
  {
   "cell_type": "code",
   "execution_count": null,
   "metadata": {},
   "outputs": [],
   "source": [
    "from tensorflow.python.keras.utils import plot_model\n",
    "#from tensorflow.python.keras.utils.vis_utils import plot_model\n",
    "plot_model(LSTM_model, to_file='LSTM_demo.png', show_shapes=True)\n",
    "\n",
    "#from IPython.display import SVG\n",
    "#from tensorflow.python.keras.utils.vis_utils import model_to_dot\n",
    "\n",
    "#SVG(model_to_dot(LSTM_model).create(prog='dot', format='svg'))"
   ]
  },
  {
   "cell_type": "markdown",
   "metadata": {},
   "source": [
    "### Callback functions for TensorBoard"
   ]
  },
  {
   "cell_type": "code",
   "execution_count": 29,
   "metadata": {},
   "outputs": [],
   "source": [
    "path_checkpoint = '23_checkpoint.keras'\n",
    "## Recording checkpoints\n",
    "callback_checkpoint = ModelCheckpoint(filepath=path_checkpoint, monitor='val_loss', verbose=1, save_weights_only=True, save_best_only=True)\n",
    "## If performance in Validation set gets worse, then stop training\n",
    "callback_early_stopping = EarlyStopping(monitor='val_loss',patience=5, verbose=1)\n",
    "## \n",
    "callback_tensorboard = TensorBoard(log_dir='./logs/SAE_test10',histogram_freq=0,write_graph=False)\n",
    "callback_reduce_lr = ReduceLROnPlateau(monitor='val_loss',factor=0.1,min_lr=1e-4,patience=0,verbose=1)\n",
    "callbacks = [callback_early_stopping, callback_checkpoint, callback_tensorboard, callback_reduce_lr]"
   ]
  },
  {
   "cell_type": "markdown",
   "metadata": {},
   "source": [
    "## Train the model"
   ]
  },
  {
   "cell_type": "code",
   "execution_count": 30,
   "metadata": {},
   "outputs": [
    {
     "name": "stdout",
     "output_type": "stream",
     "text": [
      "Epoch 1/50\n",
      " 99/100 [============================>.] - ETA: 0s - loss: 0.0884\n",
      "Epoch 00001: val_loss improved from inf to 0.26170, saving model to 23_checkpoint.keras\n",
      "100/100 [==============================] - 28s 275ms/step - loss: 0.0887 - val_loss: 0.2617\n",
      "Epoch 2/50\n",
      " 99/100 [============================>.] - ETA: 0s - loss: 0.0880\n",
      "Epoch 00002: val_loss improved from 0.26170 to 0.25556, saving model to 23_checkpoint.keras\n",
      "100/100 [==============================] - 26s 262ms/step - loss: 0.0879 - val_loss: 0.2556\n",
      "Epoch 3/50\n",
      " 99/100 [============================>.] - ETA: 0s - loss: 0.0800\n",
      "Epoch 00003: val_loss improved from 0.25556 to 0.24847, saving model to 23_checkpoint.keras\n",
      "100/100 [==============================] - 26s 261ms/step - loss: 0.0797 - val_loss: 0.2485\n",
      "Epoch 4/50\n",
      " 99/100 [============================>.] - ETA: 0s - loss: 0.0837\n",
      "Epoch 00004: val_loss improved from 0.24847 to 0.23439, saving model to 23_checkpoint.keras\n",
      "100/100 [==============================] - 26s 265ms/step - loss: 0.0838 - val_loss: 0.2344\n",
      "Epoch 5/50\n",
      " 99/100 [============================>.] - ETA: 0s - loss: 0.0713\n",
      "Epoch 00005: val_loss improved from 0.23439 to 0.20302, saving model to 23_checkpoint.keras\n",
      "100/100 [==============================] - 26s 261ms/step - loss: 0.0711 - val_loss: 0.2030\n",
      "Epoch 6/50\n",
      " 99/100 [============================>.] - ETA: 0s - loss: 0.0527\n",
      "Epoch 00006: val_loss improved from 0.20302 to 0.09222, saving model to 23_checkpoint.keras\n",
      "100/100 [==============================] - 26s 264ms/step - loss: 0.0525 - val_loss: 0.0922\n",
      "Epoch 7/50\n",
      " 99/100 [============================>.] - ETA: 0s - loss: 0.0350\n",
      "Epoch 00007: val_loss improved from 0.09222 to 0.03354, saving model to 23_checkpoint.keras\n",
      "100/100 [==============================] - 26s 262ms/step - loss: 0.0351 - val_loss: 0.0335\n",
      "Epoch 8/50\n",
      " 99/100 [============================>.] - ETA: 0s - loss: 0.0291\n",
      "Epoch 00008: val_loss improved from 0.03354 to 0.02266, saving model to 23_checkpoint.keras\n",
      "100/100 [==============================] - 27s 267ms/step - loss: 0.0292 - val_loss: 0.0227\n",
      "Epoch 9/50\n",
      " 99/100 [============================>.] - ETA: 0s - loss: 0.0268\n",
      "Epoch 00009: val_loss improved from 0.02266 to 0.01997, saving model to 23_checkpoint.keras\n",
      "100/100 [==============================] - 26s 263ms/step - loss: 0.0267 - val_loss: 0.0200\n",
      "Epoch 10/50\n",
      " 99/100 [============================>.] - ETA: 0s - loss: 0.0245\n",
      "Epoch 00010: val_loss improved from 0.01997 to 0.01631, saving model to 23_checkpoint.keras\n",
      "100/100 [==============================] - 27s 268ms/step - loss: 0.0245 - val_loss: 0.0163\n",
      "Epoch 11/50\n",
      " 99/100 [============================>.] - ETA: 0s - loss: 0.0239\n",
      "Epoch 00011: val_loss improved from 0.01631 to 0.01341, saving model to 23_checkpoint.keras\n",
      "100/100 [==============================] - 27s 270ms/step - loss: 0.0238 - val_loss: 0.0134\n",
      "Epoch 12/50\n",
      " 99/100 [============================>.] - ETA: 0s - loss: 0.0222\n",
      "Epoch 00012: val_loss improved from 0.01341 to 0.01297, saving model to 23_checkpoint.keras\n",
      "100/100 [==============================] - 26s 265ms/step - loss: 0.0222 - val_loss: 0.0130\n",
      "Epoch 13/50\n",
      " 99/100 [============================>.] - ETA: 0s - loss: 0.0217\n",
      "Epoch 00013: val_loss improved from 0.01297 to 0.01209, saving model to 23_checkpoint.keras\n",
      "100/100 [==============================] - 27s 272ms/step - loss: 0.0216 - val_loss: 0.0121\n",
      "Epoch 14/50\n",
      " 99/100 [============================>.] - ETA: 0s - loss: 0.0198\n",
      "Epoch 00014: val_loss improved from 0.01209 to 0.01150, saving model to 23_checkpoint.keras\n",
      "100/100 [==============================] - 26s 264ms/step - loss: 0.0198 - val_loss: 0.0115\n",
      "Epoch 15/50\n",
      " 99/100 [============================>.] - ETA: 0s - loss: 0.0194\n",
      "Epoch 00015: val_loss improved from 0.01150 to 0.01052, saving model to 23_checkpoint.keras\n",
      "100/100 [==============================] - 26s 264ms/step - loss: 0.0194 - val_loss: 0.0105\n",
      "Epoch 16/50\n",
      " 99/100 [============================>.] - ETA: 0s - loss: 0.0191\n",
      "Epoch 00016: val_loss improved from 0.01052 to 0.00995, saving model to 23_checkpoint.keras\n",
      "100/100 [==============================] - 26s 262ms/step - loss: 0.0190 - val_loss: 0.0099\n",
      "Epoch 17/50\n",
      " 99/100 [============================>.] - ETA: 0s - loss: 0.0180\n",
      "Epoch 00017: val_loss improved from 0.00995 to 0.00921, saving model to 23_checkpoint.keras\n",
      "100/100 [==============================] - 26s 261ms/step - loss: 0.0179 - val_loss: 0.0092\n",
      "Epoch 18/50\n",
      " 99/100 [============================>.] - ETA: 0s - loss: 0.0169\n",
      "Epoch 00018: val_loss did not improve from 0.00921\n",
      "100/100 [==============================] - 26s 261ms/step - loss: 0.0170 - val_loss: 0.0092\n",
      "Epoch 19/50\n",
      " 99/100 [============================>.] - ETA: 0s - loss: 0.0164\n",
      "Epoch 00019: val_loss improved from 0.00921 to 0.00880, saving model to 23_checkpoint.keras\n",
      "100/100 [==============================] - 26s 264ms/step - loss: 0.0165 - val_loss: 0.0088\n",
      "Epoch 20/50\n",
      " 99/100 [============================>.] - ETA: 0s - loss: 0.0149\n",
      "Epoch 00020: val_loss improved from 0.00880 to 0.00830, saving model to 23_checkpoint.keras\n",
      "100/100 [==============================] - 27s 271ms/step - loss: 0.0150 - val_loss: 0.0083\n",
      "Epoch 21/50\n",
      " 99/100 [============================>.] - ETA: 0s - loss: 0.0150\n",
      "Epoch 00021: val_loss improved from 0.00830 to 0.00804, saving model to 23_checkpoint.keras\n",
      "100/100 [==============================] - 27s 267ms/step - loss: 0.0150 - val_loss: 0.0080\n",
      "Epoch 22/50\n",
      " 99/100 [============================>.] - ETA: 0s - loss: 0.0144\n",
      "Epoch 00022: val_loss did not improve from 0.00804\n",
      "100/100 [==============================] - 27s 266ms/step - loss: 0.0145 - val_loss: 0.0085\n",
      "Epoch 23/50\n",
      " 99/100 [============================>.] - ETA: 0s - loss: 0.0142\n",
      "Epoch 00023: val_loss improved from 0.00804 to 0.00771, saving model to 23_checkpoint.keras\n",
      "100/100 [==============================] - 27s 265ms/step - loss: 0.0142 - val_loss: 0.0077\n",
      "Epoch 24/50\n",
      " 99/100 [============================>.] - ETA: 0s - loss: 0.0128\n",
      "Epoch 00024: val_loss improved from 0.00771 to 0.00728, saving model to 23_checkpoint.keras\n",
      "100/100 [==============================] - 27s 265ms/step - loss: 0.0129 - val_loss: 0.0073\n",
      "Epoch 25/50\n",
      " 99/100 [============================>.] - ETA: 0s - loss: 0.0132\n",
      "Epoch 00025: val_loss did not improve from 0.00728\n",
      "100/100 [==============================] - 27s 267ms/step - loss: 0.0132 - val_loss: 0.0075\n",
      "Epoch 26/50\n",
      " 99/100 [============================>.] - ETA: 0s - loss: 0.0120\n",
      "Epoch 00026: val_loss improved from 0.00728 to 0.00672, saving model to 23_checkpoint.keras\n",
      "100/100 [==============================] - 26s 264ms/step - loss: 0.0120 - val_loss: 0.0067\n",
      "Epoch 27/50\n",
      " 99/100 [============================>.] - ETA: 0s - loss: 0.0122\n",
      "Epoch 00027: val_loss did not improve from 0.00672\n",
      "100/100 [==============================] - 26s 263ms/step - loss: 0.0123 - val_loss: 0.0069\n",
      "Epoch 28/50\n",
      " 99/100 [============================>.] - ETA: 0s - loss: 0.0115\n",
      "Epoch 00028: val_loss improved from 0.00672 to 0.00648, saving model to 23_checkpoint.keras\n",
      "100/100 [==============================] - 26s 262ms/step - loss: 0.0115 - val_loss: 0.0065\n",
      "Epoch 29/50\n",
      " 99/100 [============================>.] - ETA: 0s - loss: 0.0117\n",
      "Epoch 00029: val_loss improved from 0.00648 to 0.00645, saving model to 23_checkpoint.keras\n",
      "100/100 [==============================] - 26s 261ms/step - loss: 0.0118 - val_loss: 0.0064\n",
      "Epoch 30/50\n",
      " 99/100 [============================>.] - ETA: 0s - loss: 0.0113\n",
      "Epoch 00030: val_loss improved from 0.00645 to 0.00635, saving model to 23_checkpoint.keras\n",
      "100/100 [==============================] - 26s 262ms/step - loss: 0.0113 - val_loss: 0.0064\n",
      "Epoch 31/50\n",
      " 99/100 [============================>.] - ETA: 0s - loss: 0.0108\n",
      "Epoch 00031: val_loss improved from 0.00635 to 0.00576, saving model to 23_checkpoint.keras\n",
      "100/100 [==============================] - 27s 268ms/step - loss: 0.0108 - val_loss: 0.0058\n",
      "Epoch 32/50\n",
      " 99/100 [============================>.] - ETA: 0s - loss: 0.0102\n",
      "Epoch 00032: val_loss improved from 0.00576 to 0.00567, saving model to 23_checkpoint.keras\n",
      "100/100 [==============================] - 27s 268ms/step - loss: 0.0102 - val_loss: 0.0057\n"
     ]
    },
    {
     "name": "stdout",
     "output_type": "stream",
     "text": [
      "Epoch 33/50\n",
      " 99/100 [============================>.] - ETA: 0s - loss: 0.0100\n",
      "Epoch 00033: val_loss improved from 0.00567 to 0.00567, saving model to 23_checkpoint.keras\n",
      "100/100 [==============================] - 27s 265ms/step - loss: 0.0100 - val_loss: 0.0057\n",
      "Epoch 34/50\n",
      " 99/100 [============================>.] - ETA: 0s - loss: 0.0105\n",
      "Epoch 00034: val_loss improved from 0.00567 to 0.00556, saving model to 23_checkpoint.keras\n",
      "100/100 [==============================] - 26s 263ms/step - loss: 0.0105 - val_loss: 0.0056\n",
      "Epoch 35/50\n",
      " 99/100 [============================>.] - ETA: 0s - loss: 0.0108\n",
      "Epoch 00035: val_loss improved from 0.00556 to 0.00534, saving model to 23_checkpoint.keras\n",
      "100/100 [==============================] - 26s 263ms/step - loss: 0.0109 - val_loss: 0.0053\n",
      "Epoch 36/50\n",
      " 99/100 [============================>.] - ETA: 0s - loss: 0.0102\n",
      "Epoch 00036: val_loss improved from 0.00534 to 0.00512, saving model to 23_checkpoint.keras\n",
      "100/100 [==============================] - 27s 267ms/step - loss: 0.0102 - val_loss: 0.0051\n",
      "Epoch 37/50\n",
      " 99/100 [============================>.] - ETA: 0s - loss: 0.0104\n",
      "Epoch 00037: val_loss improved from 0.00512 to 0.00497, saving model to 23_checkpoint.keras\n",
      "100/100 [==============================] - 27s 267ms/step - loss: 0.0105 - val_loss: 0.0050\n",
      "Epoch 38/50\n",
      " 99/100 [============================>.] - ETA: 0s - loss: 0.0103\n",
      "Epoch 00038: val_loss improved from 0.00497 to 0.00476, saving model to 23_checkpoint.keras\n",
      "100/100 [==============================] - 27s 269ms/step - loss: 0.0103 - val_loss: 0.0048\n",
      "Epoch 39/50\n",
      " 99/100 [============================>.] - ETA: 0s - loss: 0.0100\n",
      "Epoch 00039: val_loss improved from 0.00476 to 0.00455, saving model to 23_checkpoint.keras\n",
      "100/100 [==============================] - 26s 264ms/step - loss: 0.0099 - val_loss: 0.0046\n",
      "Epoch 40/50\n",
      " 99/100 [============================>.] - ETA: 0s - loss: 0.0100\n",
      "Epoch 00040: val_loss improved from 0.00455 to 0.00448, saving model to 23_checkpoint.keras\n",
      "100/100 [==============================] - 27s 267ms/step - loss: 0.0100 - val_loss: 0.0045\n",
      "Epoch 41/50\n",
      " 99/100 [============================>.] - ETA: 0s - loss: 0.0095\n",
      "Epoch 00041: val_loss improved from 0.00448 to 0.00438, saving model to 23_checkpoint.keras\n",
      "100/100 [==============================] - 27s 266ms/step - loss: 0.0096 - val_loss: 0.0044\n",
      "Epoch 42/50\n",
      " 99/100 [============================>.] - ETA: 0s - loss: 0.0097\n",
      "Epoch 00042: val_loss improved from 0.00438 to 0.00420, saving model to 23_checkpoint.keras\n",
      "100/100 [==============================] - 27s 270ms/step - loss: 0.0097 - val_loss: 0.0042\n",
      "Epoch 43/50\n",
      " 99/100 [============================>.] - ETA: 0s - loss: 0.0101\n",
      "Epoch 00043: val_loss improved from 0.00420 to 0.00407, saving model to 23_checkpoint.keras\n",
      "100/100 [==============================] - 27s 271ms/step - loss: 0.0101 - val_loss: 0.0041\n",
      "Epoch 44/50\n",
      " 99/100 [============================>.] - ETA: 0s - loss: 0.0095\n",
      "Epoch 00044: val_loss improved from 0.00407 to 0.00379, saving model to 23_checkpoint.keras\n",
      "100/100 [==============================] - 27s 270ms/step - loss: 0.0095 - val_loss: 0.0038\n",
      "Epoch 45/50\n",
      " 99/100 [============================>.] - ETA: 0s - loss: 0.0090\n",
      "Epoch 00045: val_loss improved from 0.00379 to 0.00373, saving model to 23_checkpoint.keras\n",
      "100/100 [==============================] - 27s 266ms/step - loss: 0.0091 - val_loss: 0.0037\n",
      "Epoch 46/50\n",
      " 99/100 [============================>.] - ETA: 0s - loss: 0.0085\n",
      "Epoch 00046: val_loss improved from 0.00373 to 0.00359, saving model to 23_checkpoint.keras\n",
      "100/100 [==============================] - 27s 267ms/step - loss: 0.0086 - val_loss: 0.0036\n",
      "Epoch 47/50\n",
      " 99/100 [============================>.] - ETA: 0s - loss: 0.0097\n",
      "Epoch 00047: val_loss improved from 0.00359 to 0.00355, saving model to 23_checkpoint.keras\n",
      "100/100 [==============================] - 27s 269ms/step - loss: 0.0097 - val_loss: 0.0036\n",
      "Epoch 48/50\n",
      " 99/100 [============================>.] - ETA: 0s - loss: 0.0095\n",
      "Epoch 00048: val_loss improved from 0.00355 to 0.00340, saving model to 23_checkpoint.keras\n",
      "100/100 [==============================] - 27s 265ms/step - loss: 0.0095 - val_loss: 0.0034\n",
      "Epoch 49/50\n",
      " 99/100 [============================>.] - ETA: 0s - loss: 0.0092\n",
      "Epoch 00049: val_loss improved from 0.00340 to 0.00322, saving model to 23_checkpoint.keras\n",
      "100/100 [==============================] - 27s 268ms/step - loss: 0.0092 - val_loss: 0.0032\n",
      "Epoch 50/50\n",
      " 99/100 [============================>.] - ETA: 0s - loss: 0.0097\n",
      "Epoch 00050: val_loss improved from 0.00322 to 0.00318, saving model to 23_checkpoint.keras\n",
      "100/100 [==============================] - 27s 270ms/step - loss: 0.0097 - val_loss: 0.0032\n",
      "Wall time: 22min 10s\n"
     ]
    },
    {
     "data": {
      "text/plain": [
       "<tensorflow.python.keras.callbacks.History at 0x21d47721f28>"
      ]
     },
     "execution_count": 30,
     "metadata": {},
     "output_type": "execute_result"
    }
   ],
   "source": [
    "%%time\n",
    "LSTM_model.fit_generator(generator=generator, epochs=50, steps_per_epoch=100, validation_data=validation_data, callbacks=callbacks)"
   ]
  },
  {
   "cell_type": "markdown",
   "metadata": {},
   "source": [
    "### Read checkpoints when early-stopping occurs"
   ]
  },
  {
   "cell_type": "code",
   "execution_count": 31,
   "metadata": {},
   "outputs": [],
   "source": [
    "try:\n",
    "    LSTM_model.load_weights(path_checkpoint)\n",
    "except Exception as error:\n",
    "    print(\"Error trying to load checkpoint.\")\n",
    "    print(error)"
   ]
  },
  {
   "cell_type": "markdown",
   "metadata": {},
   "source": [
    "## Evaluation the model to the test set"
   ]
  },
  {
   "cell_type": "code",
   "execution_count": 32,
   "metadata": {},
   "outputs": [
    {
     "name": "stdout",
     "output_type": "stream",
     "text": [
      "\r",
      "1/1 [==============================] - 0s 110ms/step\n"
     ]
    }
   ],
   "source": [
    "result = LSTM_model.evaluate(x=np.expand_dims(x_test_scaled, axis=0),\n",
    "y=np.expand_dims(y_test_scaled, axis=0))"
   ]
  },
  {
   "cell_type": "code",
   "execution_count": 33,
   "metadata": {},
   "outputs": [
    {
     "name": "stdout",
     "output_type": "stream",
     "text": [
      "loss (test-set): 0.0031846677884459496\n"
     ]
    }
   ],
   "source": [
    "print(\"loss (test-set):\", result)"
   ]
  },
  {
   "cell_type": "code",
   "execution_count": null,
   "metadata": {},
   "outputs": [],
   "source": [
    "# 만약 여러가지 측정치를 사용한다면 다음의 방법으로 측정할 수 있습니다.\n",
    "if False:\n",
    "    for res, metric in zip(result, LSTM_model.metrics_names):\n",
    "        print(\"{0}: {1:.3e}\".format(metric, res))"
   ]
  },
  {
   "cell_type": "markdown",
   "metadata": {},
   "source": [
    "## Visualization of prediction and real values"
   ]
  },
  {
   "cell_type": "code",
   "execution_count": 34,
   "metadata": {},
   "outputs": [],
   "source": [
    "def plot_comparison(start_idx, length=100, train=True):\n",
    "    \"\"\"\n",
    "    Plot the predicted and true output-signals.\n",
    "    :param start_idx: Start-index for the time-series.\n",
    "    :param length: Sequence-length to process and plot.\n",
    "    :param train: Boolean whether to use training- or test-set.\n",
    "    \"\"\"\n",
    "    if train:\n",
    "        # Use training-data.\n",
    "        x = x_train_scaled\n",
    "        y_true = y_train\n",
    "    else:\n",
    "        # Use test-data.\n",
    "        x = x_test_scaled\n",
    "        y_true = y_test\n",
    "    \n",
    "    # End-index for the sequences.\n",
    "    end_idx = start_idx + length\n",
    "    # Select the sequences from the given start-index and\n",
    "    # of the given length.\n",
    "    x = x[start_idx:end_idx]\n",
    "    y_true = y_true[start_idx:end_idx]\n",
    "    # Input-signals for the model.\n",
    "    x = np.expand_dims(x, axis=0)\n",
    "    # Use the model to predict the output-signals.\n",
    "    y_pred = LSTM_model.predict(x)\n",
    "    # The output of the model is between 0 and 1.\n",
    "    # Do an inverse map to get it back to the scale\n",
    "    # of the original data-set.\n",
    "    y_pred_rescaled = y_scaler.inverse_transform(y_pred[0])\n",
    "    # For each output-signal.\n",
    "    for signal in range(len(target_names)):\n",
    "        # Get the output-signal predicted by the model.\n",
    "        signal_pred = y_pred_rescaled[:, signal]\n",
    "        # Get the true output-signal from the data-set.\n",
    "        signal_true = y_true[:, signal]\n",
    "        # Make the plotting-canvas bigger.\n",
    "        plt.figure(figsize=(15,5))\n",
    "        # Plot and compare the two signals.\n",
    "        plt.plot(signal_true, label='true')\n",
    "        plt.plot(signal_pred, label='pred')\n",
    "        # Plot grey box for warmup-period.\n",
    "        p = plt.axvspan(0, warmup_steps, facecolor='black', alpha=0.15)\n",
    "        # Plot labels etc.\n",
    "        plt.ylabel(target_names[signal])\n",
    "        plt.legend()\n",
    "        plt.show()"
   ]
  },
  {
   "cell_type": "code",
   "execution_count": null,
   "metadata": {},
   "outputs": [],
   "source": [
    "plot_comparison(start_idx=10, length=100, train=True)"
   ]
  },
  {
   "cell_type": "code",
   "execution_count": 35,
   "metadata": {},
   "outputs": [
    {
     "data": {
      "image/png": "[encoded data removed]",
      "text/plain": [
       "<Figure size 1080x360 with 1 Axes>"
      ]
     },
     "metadata": {},
     "output_type": "display_data"
    }
   ],
   "source": [
    "plot_comparison(start_idx=10, length=300, train=True)"
   ]
  },
  {
   "cell_type": "code",
   "execution_count": 37,
   "metadata": {},
   "outputs": [
    {
     "data": {
      "image/png": "[encoded data removed]",
      "text/plain": [
       "<Figure size 1080x360 with 1 Axes>"
      ]
     },
     "metadata": {},
     "output_type": "display_data"
    }
   ],
   "source": [
    "plot_comparison(start_idx=10, length=300, train=False)"
   ]
  },
  {
   "cell_type": "markdown",
   "metadata": {},
   "source": [
    "plot_comparison(start_idx=10, length=250, train=False)"
   ]
  }
 ],
 "metadata": {
  "kernelspec": {
   "display_name": "Python 3",
   "language": "python",
   "name": "python3"
  },
  "language_info": {
   "codemirror_mode": {
    "name": "ipython",
    "version": 3
   },
   "file_extension": ".py",
   "mimetype": "text/x-python",
   "name": "python",
   "nbconvert_exporter": "python",
   "pygments_lexer": "ipython3",
   "version": "3.5.2"
  }
 },
 "nbformat": 4,
 "nbformat_minor": 2
}
