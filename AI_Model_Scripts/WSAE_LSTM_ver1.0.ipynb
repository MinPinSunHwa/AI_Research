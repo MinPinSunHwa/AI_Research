{
 "cells": [
  {
   "cell_type": "code",
   "execution_count": 1,
   "metadata": {},
   "outputs": [
    {
     "name": "stdout",
     "output_type": "stream",
     "text": [
      "DB connection complete!!\n"
     ]
    }
   ],
   "source": [
    "import pandas as pd\n",
    "from pymongo import MongoClient\n",
    "from datetime import datetime\n",
    "client = MongoClient('52.79.241.214', 27017)\n",
    "print(\"DB connection complete!!\")"
   ]
  },
  {
   "cell_type": "code",
   "execution_count": 2,
   "metadata": {},
   "outputs": [],
   "source": [
    "DB_Coin = client.Coin\n",
    "Posts = DB_Coin.posts"
   ]
  },
  {
   "cell_type": "code",
   "execution_count": 3,
   "metadata": {},
   "outputs": [],
   "source": [
    "import time\n",
    "DB_schema = []\n",
    "i = 0\n",
    "for post in Posts.find({}):\n",
    "    if i==200:\n",
    "        continue\n",
    "    temp_record = {}\n",
    "\n",
    "    temp_record['open'] = post['price_open']\n",
    "    temp_record['close'] = post['price_close']\n",
    "    temp_record['high'] = post['price_high']\n",
    "    temp_record['low'] = post['price_low']\n",
    "    temp_record['volume'] = post['volume_traded']    \n",
    "    DB_schema.append(temp_record)\n",
    "    del temp_record\n",
    "    i = i + 1"
   ]
  },
  {
   "cell_type": "code",
   "execution_count": null,
   "metadata": {},
   "outputs": [],
   "source": []
  }
 ],
 "metadata": {
  "kernelspec": {
   "display_name": "Python 3",
   "language": "python",
   "name": "python3"
  },
  "language_info": {
   "codemirror_mode": {
    "name": "ipython",
    "version": 3
   },
   "file_extension": ".py",
   "mimetype": "text/x-python",
   "name": "python",
   "nbconvert_exporter": "python",
   "pygments_lexer": "ipython3",
   "version": "3.5.2"
  }
 },
 "nbformat": 4,
 "nbformat_minor": 2
}
