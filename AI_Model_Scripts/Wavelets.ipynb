{
 "cells": [
  {
   "cell_type": "code",
   "execution_count": 1,
   "metadata": {},
   "outputs": [],
   "source": [
    "import pywt"
   ]
  },
  {
   "cell_type": "code",
   "execution_count": 2,
   "metadata": {},
   "outputs": [
    {
     "name": "stdout",
     "output_type": "stream",
     "text": [
      "WARNING:tensorflow:From <ipython-input-2-8bf8ae5a5303>:2: read_data_sets (from tensorflow.contrib.learn.python.learn.datasets.mnist) is deprecated and will be removed in a future version.\n",
      "Instructions for updating:\n",
      "Please use alternatives such as official/mnist/dataset.py from tensorflow/models.\n",
      "WARNING:tensorflow:From c:\\users\\user\\appdata\\local\\programs\\python\\python35\\lib\\site-packages\\tensorflow\\contrib\\learn\\python\\learn\\datasets\\mnist.py:260: maybe_download (from tensorflow.contrib.learn.python.learn.datasets.base) is deprecated and will be removed in a future version.\n",
      "Instructions for updating:\n",
      "Please write your own downloading logic.\n",
      "WARNING:tensorflow:From c:\\users\\user\\appdata\\local\\programs\\python\\python35\\lib\\site-packages\\tensorflow\\contrib\\learn\\python\\learn\\datasets\\mnist.py:262: extract_images (from tensorflow.contrib.learn.python.learn.datasets.mnist) is deprecated and will be removed in a future version.\n",
      "Instructions for updating:\n",
      "Please use tf.data to implement this functionality.\n",
      "Extracting MNIST_data/train-images-idx3-ubyte.gz\n",
      "WARNING:tensorflow:From c:\\users\\user\\appdata\\local\\programs\\python\\python35\\lib\\site-packages\\tensorflow\\contrib\\learn\\python\\learn\\datasets\\mnist.py:267: extract_labels (from tensorflow.contrib.learn.python.learn.datasets.mnist) is deprecated and will be removed in a future version.\n",
      "Instructions for updating:\n",
      "Please use tf.data to implement this functionality.\n",
      "Extracting MNIST_data/train-labels-idx1-ubyte.gz\n",
      "WARNING:tensorflow:From c:\\users\\user\\appdata\\local\\programs\\python\\python35\\lib\\site-packages\\tensorflow\\contrib\\learn\\python\\learn\\datasets\\mnist.py:110: dense_to_one_hot (from tensorflow.contrib.learn.python.learn.datasets.mnist) is deprecated and will be removed in a future version.\n",
      "Instructions for updating:\n",
      "Please use tf.one_hot on tensors.\n",
      "Extracting MNIST_data/t10k-images-idx3-ubyte.gz\n",
      "Extracting MNIST_data/t10k-labels-idx1-ubyte.gz\n",
      "WARNING:tensorflow:From c:\\users\\user\\appdata\\local\\programs\\python\\python35\\lib\\site-packages\\tensorflow\\contrib\\learn\\python\\learn\\datasets\\mnist.py:290: DataSet.__init__ (from tensorflow.contrib.learn.python.learn.datasets.mnist) is deprecated and will be removed in a future version.\n",
      "Instructions for updating:\n",
      "Please use alternatives such as official/mnist/dataset.py from tensorflow/models.\n"
     ]
    }
   ],
   "source": [
    "from tensorflow.examples.tutorials.mnist import input_data\n",
    "mnist = input_data.read_data_sets(\"MNIST_data/\", one_hot=True)"
   ]
  },
  {
   "cell_type": "code",
   "execution_count": 5,
   "metadata": {},
   "outputs": [
    {
     "name": "stdout",
     "output_type": "stream",
     "text": [
      "total_batch  214\n"
     ]
    }
   ],
   "source": [
    "batch_size = 256\n",
    "total_batch = int(mnist.train.num_examples/batch_size)\n",
    "print(\"total_batch \", total_batch)\n",
    "\n",
    "for i in range(total_batch):\n",
    "    batch_xs, batch_ys = mnist.train.next_batch(batch_size)"
   ]
  },
  {
   "cell_type": "code",
   "execution_count": 10,
   "metadata": {},
   "outputs": [
    {
     "data": {
      "text/plain": [
       "55000"
      ]
     },
     "execution_count": 10,
     "metadata": {},
     "output_type": "execute_result"
    }
   ],
   "source": [
    "mnist.train.num_examples"
   ]
  },
  {
   "cell_type": "code",
   "execution_count": 9,
   "metadata": {},
   "outputs": [
    {
     "name": "stdout",
     "output_type": "stream",
     "text": [
      "[[0. 0. 0. ... 0. 0. 0.]\n",
      " [0. 0. 0. ... 0. 0. 0.]\n",
      " [0. 0. 0. ... 0. 0. 0.]\n",
      " ...\n",
      " [0. 0. 0. ... 0. 0. 0.]\n",
      " [0. 0. 0. ... 0. 0. 0.]\n",
      " [0. 0. 0. ... 0. 0. 0.]]\n",
      "[[0. 0. 0. ... 0. 0. 0.]\n",
      " [0. 0. 0. ... 0. 0. 0.]\n",
      " [0. 0. 0. ... 0. 0. 0.]\n",
      " ...\n",
      " [0. 0. 0. ... 0. 0. 0.]\n",
      " [0. 0. 0. ... 0. 0. 0.]\n",
      " [0. 0. 0. ... 0. 0. 0.]]\n",
      "[[0. 0. 0. ... 0. 0. 0.]\n",
      " [0. 0. 0. ... 0. 0. 0.]\n",
      " [0. 0. 0. ... 0. 0. 0.]\n",
      " ...\n",
      " [0. 0. 0. ... 0. 0. 0.]\n",
      " [0. 0. 0. ... 0. 0. 0.]\n",
      " [0. 0. 0. ... 0. 0. 0.]]\n",
      "[[0. 0. 0. ... 0. 0. 0.]\n",
      " [0. 0. 0. ... 0. 0. 0.]\n",
      " [0. 0. 0. ... 0. 0. 0.]\n",
      " ...\n",
      " [0. 0. 0. ... 0. 0. 0.]\n",
      " [0. 0. 0. ... 0. 0. 0.]\n",
      " [0. 0. 0. ... 0. 0. 0.]]\n"
     ]
    }
   ],
   "source": [
    "from pywt import wavedec\n",
    "coeffs = wavedec(batch_xs, 'haar', level=2)\n",
    "print(coeffs[0])\n",
    "print(coeffs[1])\n",
    "print(coeffs[2])\n",
    "from pywt import waverec\n",
    "reconstruct = waverec(coeffs, 'haar')\n",
    "print(reconstruct)"
   ]
  },
  {
   "cell_type": "code",
   "execution_count": 2,
   "metadata": {},
   "outputs": [],
   "source": [
    "x_t = [6.65, 7.15, 6.31, 5.94, 4.89, 4.95, 5.05, 5.39, 4.54, 5.01, 4.96, 5.08, 5.07, 4.93, 200, 5.12, 5.19, 5.86, 6.45, 6.44, 7.59, 8.59, 10.44, 11.49, 9.96, 9.91, 11.04, 12.19, 12.14, 12.09, 11.32, 12.1]\n",
    "x_t2 = [6.65, 7.15, 6.31, 5.94, 4.89, 104.95, 5.05, 5.39, 4.54, 5.01, 4.96, 5.08, 5.07, 4.93, 20, 5.12, 5.19, 5.86, 6.45, 6.44, 7.59, -8.59, 10.44, 11.49, 9.96, 9.91, 11.04, 12.19, -12.14, 12.09, 11.32, 12.1, 6.5, 7.15, 6.31, 5.94, 4.89, 2.95, 5.05, 5.39, 4.54, 5.01, 4.96, 5.08, 5.07, 4.93, 2, 5.12, 5.19, 6.65, 7.15, 6.31, 5.94, 4.89, 1004.95, 5.05, 5.39, 4.54, 5.01, 4.96, 5.08, 5.07, 4.93, 20, 5.12, 5.19, 6.65, 7.15, 6.31, 5.94, 4.89, 1.95, 5.05, 5.39, 4.54, 5.01, 4.96, 5.08, 5.07, 4.93, 200, 5.12, 5.19, 2.5, 7.15, 6.31, 5.94, 4.89, 0.95, 5.05, 5.39, 4.54, 5.01, 4.96, 5.08, 5.07, 4.93, 3, 5.12, 5.19]"
   ]
  },
  {
   "cell_type": "code",
   "execution_count": 3,
   "metadata": {},
   "outputs": [],
   "source": [
    "wavelet = pywt.Wavelet('haar')  # Basis Wavelet\n",
    "phi, psi, x = wavelet.wavefun(level=5)"
   ]
  },
  {
   "cell_type": "code",
   "execution_count": 4,
   "metadata": {},
   "outputs": [
    {
     "data": {
      "text/plain": [
       "array([0., 1., 1., 1., 1., 1., 1., 1., 1., 1., 1., 1., 1., 1., 1., 1., 1.,\n",
       "       1., 1., 1., 1., 1., 1., 1., 1., 1., 1., 1., 1., 1., 1., 1., 1., 0.])"
      ]
     },
     "execution_count": 4,
     "metadata": {},
     "output_type": "execute_result"
    }
   ],
   "source": []
  },
  {
   "cell_type": "code",
   "execution_count": null,
   "metadata": {},
   "outputs": [],
   "source": [
    "from pywt import Wavelet, integrate_wavelet"
   ]
  },
  {
   "cell_type": "code",
   "execution_count": null,
   "metadata": {},
   "outputs": [],
   "source": [
    "[int_psi, x_grid] = integrate_wavelet(wavelet, precision=5)"
   ]
  },
  {
   "cell_type": "code",
   "execution_count": null,
   "metadata": {},
   "outputs": [],
   "source": [
    "x_grid"
   ]
  },
  {
   "cell_type": "markdown",
   "metadata": {},
   "source": [
    "## Single level DWT  \n",
    "x_t : 1 X 30 --> (1 X 15) (1 X 15)"
   ]
  },
  {
   "cell_type": "code",
   "execution_count": 22,
   "metadata": {},
   "outputs": [
    {
     "name": "stdout",
     "output_type": "stream",
     "text": [
      "[ 1.22895159e+02  8.66205807e+00  7.14064712e+02  7.38219480e+00\n",
      "  6.75286976e+00  7.09935208e+00  7.07106781e+00  1.45041743e+02\n",
      "  7.81352993e+00  9.11460641e+00  1.14409877e+01  1.55068517e+01\n",
      "  1.40502117e+01  1.64260905e+01 -3.53553391e-02  1.65604408e+01]\n",
      "[ 1.12783532e+02  2.61629509e-01 -7.07149208e+02 -2.40416306e-01\n",
      " -3.32340187e-01 -8.48528137e-02  9.89949494e-02  1.37800970e+02\n",
      " -4.73761543e-01  7.07106781e-03 -7.07106781e-01 -7.42462120e-01\n",
      "  3.53553391e-02 -8.13172798e-01 -1.71331973e+01 -5.51543289e-01]\n"
     ]
    }
   ],
   "source": [
    "(cA, cD) = pywt.dwt(x_t2, 'haar')\n",
    "print(cA)\n",
    "print(cD)"
   ]
  },
  {
   "cell_type": "code",
   "execution_count": null,
   "metadata": {},
   "outputs": [],
   "source": [
    "len(x_t), len(cA)"
   ]
  },
  {
   "cell_type": "markdown",
   "metadata": {},
   "source": [
    "## 2-level decomposition  \n",
    "x_t : 1 X 30 --> (1 X 8) (1 X 8) (1 X 15)"
   ]
  },
  {
   "cell_type": "code",
   "execution_count": 5,
   "metadata": {},
   "outputs": [],
   "source": [
    "from pywt import wavedec\n",
    "coeffs = wavedec(x_t2, 'haar', level=2)"
   ]
  },
  {
   "cell_type": "code",
   "execution_count": 6,
   "metadata": {},
   "outputs": [
    {
     "name": "stdout",
     "output_type": "stream",
     "text": [
      "[ 13.025  60.14    9.795  17.56   11.97   10.465  21.55   11.685  12.95\n",
      "   9.14    9.795   8.56   12.65  510.415   9.95   17.54   12.055   9.545\n",
      "   9.995  10.02  106.405  12.145   7.965  10.06    9.12 ]\n",
      "[ 7.75000e-01  4.97000e+01 -2.45000e-01 -7.56000e+00 -9.20000e-01\n",
      " -1.14650e+01 -1.68000e+00 -1.17350e+01  7.00000e-01 -1.30000e+00\n",
      " -2.45000e-01  1.44000e+00 -8.10000e-01 -4.99585e+02 -2.00000e-02\n",
      " -7.39000e+00 -1.74500e+00  2.70500e+00  4.45000e-01  2.00000e-02\n",
      "  9.87150e+01  1.31500e+00 -1.96500e+00 -9.00000e-02 -1.19000e+00]\n",
      "[-3.53553391e-01  2.61629509e-01 -7.07531045e+01 -2.40416306e-01\n",
      " -3.32340187e-01 -8.48528137e-02  9.89949494e-02  1.05217489e+01\n",
      " -4.73761543e-01  7.07106781e-03  1.14409877e+01 -7.42462120e-01\n",
      "  3.53553391e-02 -8.13172798e-01 -1.71331973e+01 -5.51543289e-01\n",
      " -4.59619408e-01  2.61629509e-01  1.37178716e+00 -2.40416306e-01\n",
      " -3.32340187e-01 -8.48528137e-02  9.89949494e-02 -2.20617316e+00\n",
      " -1.03237590e+00  5.93969696e-01  7.42462120e-01  7.07036071e+02\n",
      "  6.01040764e-01  3.53553391e-02  7.07106781e-03 -1.06560992e+01\n",
      " -4.94974747e-02 -3.53553391e-01  2.61629509e-01  2.07889394e+00\n",
      " -2.40416306e-01 -3.32340187e-01 -8.48528137e-02  9.89949494e-02\n",
      "  1.37800970e+02  1.90211724e+00  5.93969696e-01  7.42462120e-01\n",
      " -2.89913780e+00  6.01040764e-01  3.53553391e-02  7.07106781e-03\n",
      "  1.36471609e+00 -4.94974747e-02]\n"
     ]
    }
   ],
   "source": [
    "print(coeffs[0])\n",
    "print(coeffs[1])\n",
    "print(coeffs[2])"
   ]
  },
  {
   "cell_type": "code",
   "execution_count": 25,
   "metadata": {},
   "outputs": [
    {
     "data": {
      "text/plain": [
       "array([False, False, False, False, False, False, False, False])"
      ]
     },
     "execution_count": 25,
     "metadata": {},
     "output_type": "execute_result"
    }
   ],
   "source": [
    "import numpy as np\n",
    "coeffs[-2] == np.zeros_like(coeffs[-2])"
   ]
  },
  {
   "cell_type": "markdown",
   "metadata": {},
   "source": [
    "## 2-level reconstruction"
   ]
  },
  {
   "cell_type": "code",
   "execution_count": 7,
   "metadata": {},
   "outputs": [],
   "source": [
    "from pywt import waverec\n",
    "reconstruct = waverec(coeffs, 'haar')"
   ]
  },
  {
   "cell_type": "code",
   "execution_count": 8,
   "metadata": {},
   "outputs": [
    {
     "data": {
      "text/plain": [
       "array([ 6.65000e+00,  7.15000e+00,  6.31000e+00,  5.94000e+00,\n",
       "        4.89000e+00,  1.04950e+02,  5.05000e+00,  5.39000e+00,\n",
       "        4.54000e+00,  5.01000e+00,  4.96000e+00,  5.08000e+00,\n",
       "        5.07000e+00,  4.93000e+00,  2.00000e+01,  5.12000e+00,\n",
       "        5.19000e+00,  5.86000e+00,  6.45000e+00,  6.44000e+00,\n",
       "        7.59000e+00, -8.59000e+00,  1.04400e+01,  1.14900e+01,\n",
       "        9.96000e+00,  9.91000e+00,  1.10400e+01,  1.21900e+01,\n",
       "       -1.21400e+01,  1.20900e+01,  1.13200e+01,  1.21000e+01,\n",
       "        6.50000e+00,  7.15000e+00,  6.31000e+00,  5.94000e+00,\n",
       "        4.89000e+00,  2.95000e+00,  5.05000e+00,  5.39000e+00,\n",
       "        4.54000e+00,  5.01000e+00,  4.96000e+00,  5.08000e+00,\n",
       "        5.07000e+00,  4.93000e+00,  2.00000e+00,  5.12000e+00,\n",
       "        5.19000e+00,  6.65000e+00,  7.15000e+00,  6.31000e+00,\n",
       "        5.94000e+00,  4.89000e+00,  1.00495e+03,  5.05000e+00,\n",
       "        5.39000e+00,  4.54000e+00,  5.01000e+00,  4.96000e+00,\n",
       "        5.08000e+00,  5.07000e+00,  4.93000e+00,  2.00000e+01,\n",
       "        5.12000e+00,  5.19000e+00,  6.65000e+00,  7.15000e+00,\n",
       "        6.31000e+00,  5.94000e+00,  4.89000e+00,  1.95000e+00,\n",
       "        5.05000e+00,  5.39000e+00,  4.54000e+00,  5.01000e+00,\n",
       "        4.96000e+00,  5.08000e+00,  5.07000e+00,  4.93000e+00,\n",
       "        2.00000e+02,  5.12000e+00,  5.19000e+00,  2.50000e+00,\n",
       "        7.15000e+00,  6.31000e+00,  5.94000e+00,  4.89000e+00,\n",
       "        9.50000e-01,  5.05000e+00,  5.39000e+00,  4.54000e+00,\n",
       "        5.01000e+00,  4.96000e+00,  5.08000e+00,  5.07000e+00,\n",
       "        4.93000e+00,  3.00000e+00,  5.12000e+00,  5.19000e+00])"
      ]
     },
     "execution_count": 8,
     "metadata": {},
     "output_type": "execute_result"
    }
   ],
   "source": [
    "reconstruct"
   ]
  },
  {
   "cell_type": "code",
   "execution_count": null,
   "metadata": {},
   "outputs": [],
   "source": [
    "direct_reconstruct = pywt.upcoef()"
   ]
  },
  {
   "cell_type": "code",
   "execution_count": null,
   "metadata": {},
   "outputs": [],
   "source": [
    "orth_filter_bank = pywt.orthogonal_filter_bank(x_t)"
   ]
  },
  {
   "cell_type": "code",
   "execution_count": null,
   "metadata": {},
   "outputs": [],
   "source": [
    "orth_filter_bank"
   ]
  },
  {
   "cell_type": "code",
   "execution_count": null,
   "metadata": {},
   "outputs": [],
   "source": []
  }
 ],
 "metadata": {
  "kernelspec": {
   "display_name": "Python 3",
   "language": "python",
   "name": "python3"
  },
  "language_info": {
   "codemirror_mode": {
    "name": "ipython",
    "version": 3
   },
   "file_extension": ".py",
   "mimetype": "text/x-python",
   "name": "python",
   "nbconvert_exporter": "python",
   "pygments_lexer": "ipython3",
   "version": "3.5.2"
  }
 },
 "nbformat": 4,
 "nbformat_minor": 2
}
